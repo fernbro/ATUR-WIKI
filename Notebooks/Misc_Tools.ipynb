{
 "cells": [
  {
   "cell_type": "markdown",
   "id": "0ecea24a-90ec-46fe-8888-7c6321fc8f25",
   "metadata": {},
   "source": [
    "This is just a notebook of useful functions I needed to create while making this tutorial"
   ]
  },
  {
   "cell_type": "markdown",
   "id": "9acfaff7-dce6-4461-ba49-5f84b705dee8",
   "metadata": {},
   "source": [
    "# Resize images for display in notebooks"
   ]
  },
  {
   "cell_type": "code",
   "execution_count": 80,
   "id": "e13d6c1f-1c5f-4dc4-ac51-43f0dd76f1ad",
   "metadata": {},
   "outputs": [],
   "source": [
    "from PIL import Image\n",
    "import os\n",
    "\n",
    "def normalize_path(path):\n",
    "    \"\"\"\n",
    "    Normalizes the given path to the correct form for the current platform.\n",
    "\n",
    "    Args:\n",
    "    path (str): The input path.\n",
    "\n",
    "    Returns:\n",
    "    str: The normalized path.\n",
    "    \"\"\"\n",
    "    return os.path.normpath(path)\n",
    "\n",
    "def preview_resize(input_path, percent):\n",
    "    \"\"\"\n",
    "    Displays the current image size and shows a preview of the image resized by the given percentage.\n",
    "\n",
    "    Args:\n",
    "    input_path (str): Path to the input image.\n",
    "    percent (float): Percentage to resize the image.\n",
    "    \"\"\"\n",
    "    input_path = normalize_path(input_path)\n",
    "    with Image.open(input_path) as img:\n",
    "        # Display current size\n",
    "        current_size = img.size\n",
    "        print(f\"Current size: {current_size}\")\n",
    "\n",
    "        # Calculate target size\n",
    "        target_size = (int(current_size[0] * percent / 100), int(current_size[1] * percent / 100))\n",
    "        \n",
    "        # Resize the image for preview\n",
    "        preview_img = img.resize(target_size, Image.LANCZOS)\n",
    "        \n",
    "        # Show preview of the resized image\n",
    "        preview_img.show()\n",
    "        print(f\"Preview of size: {target_size} (scaled by {percent}%)\")\n",
    "\n",
    "def resize_image(input_path, output_path, percent):\n",
    "    \"\"\"\n",
    "    Resizes the image by the given percentage and saves it to the output path.\n",
    "\n",
    "    Args:\n",
    "    input_path (str): Path to the input image.\n",
    "    output_path (str): Path to save the resized image.\n",
    "    percent (float): Percentage to resize the image.\n",
    "    \"\"\"\n",
    "    input_path = normalize_path(input_path)\n",
    "    output_path = normalize_path(output_path)\n",
    "    with Image.open(input_path) as img:\n",
    "        # Calculate target size\n",
    "        target_size = (int(img.size[0] * percent / 100), int(img.size[1] * percent / 100))\n",
    "        \n",
    "        # Resize the image\n",
    "        resized_img = img.resize(target_size, Image.LANCZOS)\n",
    "        \n",
    "        # Save the resized image\n",
    "        resized_img.save(output_path)\n",
    "        print(f\"Resized image saved as: {output_path}\")\n",
    "\n",
    "        # Display new size\n",
    "        new_size = resized_img.size\n",
    "        print(f\"New size: {new_size}\")\n",
    "\n"
   ]
  },
  {
   "cell_type": "code",
   "execution_count": 83,
   "id": "7f97612a-0f1f-4c92-8af9-084347b2a221",
   "metadata": {},
   "outputs": [
    {
     "name": "stdout",
     "output_type": "stream",
     "text": [
      "Current size: (1288, 751)\n",
      "Preview of size: (644, 375) (scaled by 50%)\n"
     ]
    }
   ],
   "source": [
    "# Example usage:\n",
    "input_file = 'C:/Users/rl587/Documents/GitHub/ATUR-WIKI/Notebooks/Learn_the_workflow/03_01.PNG'\n",
    "output_file = 'C:/Users/rl587/Documents/GitHub/ATUR-WIKI/Notebooks/Learn_the_workflow/03_01_rz.png'\n",
    "resize_percent = 50  # Resize to 50% of the original size\n",
    "\n",
    "# Preview the resize\n",
    "# Uncomment the following line\n",
    "#preview_resize(input_file, resize_percent)\n",
    "\n",
    "\n",
    "\n",
    "\n"
   ]
  },
  {
   "cell_type": "code",
   "execution_count": 84,
   "id": "17718666-eda3-491a-a321-e3b5ee89fe78",
   "metadata": {},
   "outputs": [
    {
     "name": "stdout",
     "output_type": "stream",
     "text": [
      "Resized image saved as: C:\\Users\\rl587\\Documents\\GitHub\\ATUR-WIKI\\Notebooks\\Learn_the_workflow\\03_01_rz.png\n",
      "New size: (644, 375)\n"
     ]
    }
   ],
   "source": [
    "# Uncomment the following line to actually resize the image after previewing\n",
    "#resize_image(input_file, output_file, resize_percent)\n"
   ]
  }
 ],
 "metadata": {
  "kernelspec": {
   "display_name": "Python 3 (ipykernel)",
   "language": "python",
   "name": "python3"
  },
  "language_info": {
   "codemirror_mode": {
    "name": "ipython",
    "version": 3
   },
   "file_extension": ".py",
   "mimetype": "text/x-python",
   "name": "python",
   "nbconvert_exporter": "python",
   "pygments_lexer": "ipython3",
   "version": "3.9.19"
  }
 },
 "nbformat": 4,
 "nbformat_minor": 5
}
