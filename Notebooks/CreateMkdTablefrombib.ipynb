{
 "cells": [
  {
   "cell_type": "markdown",
   "id": "9414b5cb-7ba3-4c05-aff1-ccc5a218f926",
   "metadata": {},
   "source": [
    "1. Read the .bib file(s)\n",
    "2. parse the file's contents to extract the relevant fields for each BibTeX entry\n",
    "3. Generate a Markdown string with a table that includes title, journal, year, authors, and a placeholder for summaries\n",
    "4. output the markdown strink so that you can copy it into your github wiki"
   ]
  },
  {
   "cell_type": "code",
   "execution_count": 1,
   "id": "d22a57d1",
   "metadata": {},
   "outputs": [
    {
     "name": "stdout",
     "output_type": "stream",
     "text": [
      "The specified .bib file does not exist. Please check the file path.\n"
     ]
    }
   ],
   "source": [
    "import os\n",
    "\n",
    "def extract_field(entry, field_name):\n",
    "    \"\"\"\n",
    "    Helper function to extract a field value from a bib entry.\n",
    "    \"\"\"\n",
    "    start_pattern = field_name + ' = {'\n",
    "    end_pattern = '},'\n",
    "    start_index = entry.find(start_pattern)\n",
    "    if start_index == -1:\n",
    "        # Field not found, try alternative pattern\n",
    "        start_pattern = field_name + ' = \"'\n",
    "        end_pattern = '\",'\n",
    "        start_index = entry.find(start_pattern)\n",
    "        if start_index == -1:\n",
    "            return ''  # Field not found again\n",
    "    start_index += len(start_pattern)\n",
    "    end_index = entry.find(end_pattern, start_index)\n",
    "    field_value = entry[start_index:end_index].strip()\n",
    "    # Remove additional curly braces and correct any LaTeX character formatting\n",
    "    field_value = field_value.replace('{', '').replace('}', '').replace('\\\\', '')\n",
    "    return field_value.replace('\\n', ' ')  # Remove newlines\n",
    "\n",
    "def bib_to_markdown_table(file_path):\n",
    "    \"\"\"\n",
    "    Parse a bib file and create a markdown table with title as a hyperlink, journal, year, authors, DOI, and a summary.\n",
    "    \"\"\"\n",
    "    with open(file_path, 'r', encoding='utf-8') as file:  # Specify UTF-8 encoding\n",
    "        bib_text = file.read()\n",
    "\n",
    "    # Split the entries\n",
    "    entries = bib_text.split('@')[1:]  # Skip the empty split before the first '@'\n",
    "    \n",
    "    # Prepare the markdown table header\n",
    "    markdown_table = \"| Title | Journal | Year | Authors | DOI | Summary |\\n\"\n",
    "    markdown_table += \"| --- | --- | --- | --- | --- | --- |\\n\"\n",
    "    \n",
    "    # Process each entry\n",
    "    for entry in entries:\n",
    "        title = extract_field(entry, 'title')\n",
    "        journal = extract_field(entry, 'journal') or extract_field(entry, 'booktitle')  # Fallback to booktitle if journal is missing\n",
    "        year = extract_field(entry, 'year')\n",
    "        authors = extract_field(entry, 'author').replace(' and ', ', ')\n",
    "        doi = extract_field(entry, 'doi')\n",
    "        url = extract_field(entry, 'url')\n",
    "        \n",
    "        # Format the title as a link if a URL is available\n",
    "        title_link = f\"[{title}]({url})\" if url else title\n",
    "        \n",
    "        # Add the entry to the table\n",
    "        markdown_table += f\"| {title_link} | {journal} | {year} | {authors} | {doi} |  |\\n\"\n",
    "    \n",
    "    return markdown_table\n",
    "\n",
    "# Path to the .bib file - adjust the path as per your directory structure\n",
    "bib_file_path = 'Github/Project_Directory/Literature/Recharge_Subteam/Williams2018.bib'\n",
    "\n",
    "# Check if the file exists\n",
    "if os.path.exists(bib_file_path):\n",
    "    # Convert the .bib content to a markdown table and print it\n",
    "    markdown_output = bib_to_markdown_table(bib_file_path)\n",
    "    print(markdown_output)\n",
    "else:\n",
    "    print(\"The specified .bib file does not exist. Please check the file path.\")\n"
   ]
  },
  {
   "cell_type": "code",
   "execution_count": 3,
   "id": "99e91557",
   "metadata": {},
   "outputs": [
    {
     "data": {
      "text/plain": [
       "'| Title | Journal | Year | Authors | DOI | Summary |\\n| --- | --- | --- | --- | --- | --- |\\n| [Spatial and Temporal Variability of the Impacts of Pinyon and Juniper Reduction on Hydrologic and Erosion Processes Across Climatic Gradients in the Western US: A Regional Synthesis](http://www.mdpi.com/2073-4441/10/11/1607) | Water | 2018 | Williams, C. Jason, Snyder, Keirith A., Pierson, Frederick B. | 10.3390/w10111607 |  |\\n'"
      ]
     },
     "execution_count": 3,
     "metadata": {},
     "output_type": "execute_result"
    }
   ],
   "source": [
    "bib_file_path = \"C:/Users/rl587/Documents/GitHub/ATUR-WIKI/Literature/Recharge_Subteam/Williams2018.bib\"\n",
    "bib_to_markdown_table(bib_file_path)"
   ]
  }
 ],
 "metadata": {
  "kernelspec": {
   "display_name": "Python 3 (ipykernel)",
   "language": "python",
   "name": "python3"
  },
  "language_info": {
   "codemirror_mode": {
    "name": "ipython",
    "version": 3
   },
   "file_extension": ".py",
   "mimetype": "text/x-python",
   "name": "python",
   "nbconvert_exporter": "python",
   "pygments_lexer": "ipython3",
   "version": "3.11.5"
  }
 },
 "nbformat": 4,
 "nbformat_minor": 5
}
